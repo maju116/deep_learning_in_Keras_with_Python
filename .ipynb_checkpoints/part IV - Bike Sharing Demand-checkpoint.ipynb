{
 "cells": [
  {
   "cell_type": "markdown",
   "id": "fb1688d5",
   "metadata": {},
   "source": [
    "# Bike Sharing Demand\n",
    "\n",
    "Zbiór danych \"Bike Sharing Demand\" dostępny jest na platformie Kaggle. Jest to zbiór danych zawierający informacje o wypożyczaniu rowerów w systemie Bike Sharing. Zawiera on dane dotyczące pogody, dnia tygodnia, miesiąca oraz informacje o ilości wypożyczonych rowerów w każdym z tych dni. Zbiór ten jest często wykorzystywany w zadaniach związanych z regresją i przewidywaniem popytu na usługi wypożyczalni rowerów.\n",
    "\n",
    "Zawiera zmienne:\n",
    "\n",
    " - datetime - data i czas (w formacie \"yyyy-mm-dd hh:mm:ss\")\n",
    " - season - pora roku (1 - wiosna, 2 - lato, 3 - jesień, 4 - zima)\n",
    " - holiday - czy był to dzień świąteczny (1 - tak, 0 - nie)\n",
    " - workingday - czy był to dzień roboczy (1 - tak, 0 - nie)\n",
    " - weather - pogoda (1: Czyste, Bezchmurne, 2: Mgliste + Pochmurne, 3: Lekkie opady deszczu, Śnieg/Śnieg z Burzą, 4: Ulewny Deszcz/Grad)\n",
    " - temp - temperatura w skali Celcjusza\n",
    " - atemp - odczuwalna temperatura w skali Celcjusza\n",
    " - humidity - wilgotność powietrza\n",
    " - windspeed - prędkość wiatru\n",
    " - casual - liczba wypożyczeń dokonanych przez klientów nierejestrowanych w systemie\n",
    " - registered - liczba wypożyczeń dokonanych przez klientów zarejestrowanych w systemie\n",
    " - count - łączna liczba wypożyczeń (suma 'casual' i 'registered')"
   ]
  },
  {
   "cell_type": "code",
   "execution_count": null,
   "id": "512bf8eb",
   "metadata": {},
   "outputs": [],
   "source": [
    "import pandas as pd\n",
    "import numpy as np\n",
    "import matplotlib.pyplot as plt\n",
    "from pandas.plotting import register_matplotlib_converters\n",
    "register_matplotlib_converters()\n",
    "train = pd.read_csv(\"data/bike_train.csv\", parse_dates=['datetime'], index_col=0)\n",
    "train"
   ]
  },
  {
   "cell_type": "code",
   "execution_count": null,
   "id": "7b8bbe35",
   "metadata": {},
   "outputs": [],
   "source": [
    "train.info()"
   ]
  },
  {
   "cell_type": "markdown",
   "id": "e04ffbaf",
   "metadata": {},
   "source": [
    "Jak widać nie ma braków danych, więc możemy przejść do eksploracji zmiennych."
   ]
  },
  {
   "cell_type": "code",
   "execution_count": null,
   "id": "889b1629",
   "metadata": {},
   "outputs": [],
   "source": [
    "columns = ['count', 'season', 'holiday', 'workingday', 'weather', 'temp',\n",
    "       'atemp', 'humidity', 'windspeed', 'year', 'month', 'day', 'dayofweek','hour']"
   ]
  },
  {
   "cell_type": "code",
   "execution_count": null,
   "id": "810abf13",
   "metadata": {},
   "outputs": [],
   "source": [
    "def add_features(df):\n",
    "    df['year'] = df.index.year\n",
    "    df['month'] = df.index.month\n",
    "    df['day'] = df.index.day\n",
    "    df['dayofweek'] = df.index.dayofweek\n",
    "    df['hour'] = df.index.hour\n",
    "add_features(train)\n",
    "train"
   ]
  },
  {
   "cell_type": "code",
   "execution_count": null,
   "id": "a02b6dad",
   "metadata": {},
   "outputs": [],
   "source": [
    "plt.plot(train.loc['2011']['count'],label='2011')\n",
    "plt.plot(train.loc['2012']['count'],label='2012')\n",
    "plt.xticks(fontsize=14, rotation=45)\n",
    "plt.xlabel('Date')\n",
    "plt.ylabel('Rental Count')\n",
    "plt.title('2011 and 2012 Rentals (Year to Year)')\n",
    "plt.legend()\n",
    "plt.show()"
   ]
  },
  {
   "cell_type": "code",
   "execution_count": null,
   "id": "39d908c3",
   "metadata": {},
   "outputs": [],
   "source": [
    "plt.plot(train.loc['2011']['count'].map(np.log1p),label='2011')\n",
    "plt.plot(train.loc['2012']['count'].map(np.log1p),label='2012')\n",
    "plt.xticks(fontsize=14, rotation=45)\n",
    "plt.xlabel('Date')\n",
    "plt.ylabel('Log(Rental Count)')\n",
    "plt.title('2011 and 2012 Rentals (Year to Year)')\n",
    "plt.legend()\n",
    "plt.show()"
   ]
  },
  {
   "cell_type": "code",
   "execution_count": null,
   "id": "9e90513c",
   "metadata": {},
   "outputs": [],
   "source": [
    "plt.boxplot([train['count']], labels=['count'])\n",
    "plt.title('Box Plot - Count')\n",
    "plt.ylabel('Target')\n",
    "plt.grid(True)"
   ]
  },
  {
   "cell_type": "code",
   "execution_count": null,
   "id": "c99fb854",
   "metadata": {},
   "outputs": [],
   "source": [
    "plt.boxplot([train['count'].map(np.log1p)], labels=['log1p(count)'])\n",
    "plt.title('Box Plot - log1p(Count)')\n",
    "plt.ylabel('Target')\n",
    "plt.grid(True)"
   ]
  },
  {
   "cell_type": "markdown",
   "id": "4c3e52d8",
   "metadata": {},
   "source": [
    "Na podstawie powyższych wykresów można podejrzewać, że lepiej będzie modelować logarytm zamiast surowej wartości."
   ]
  },
  {
   "cell_type": "code",
   "execution_count": null,
   "id": "60841fbe",
   "metadata": {},
   "outputs": [],
   "source": [
    "train[\"count\"] = train[\"count\"].map(np.log1p)"
   ]
  },
  {
   "cell_type": "code",
   "execution_count": null,
   "id": "3c602400",
   "metadata": {},
   "outputs": [],
   "source": [
    "# ZADANIE: Podziel zbiór na treningowy i testowy\n",
    "from sklearn.model_selection import train_test_split\n",
    "\n",
    "X, y = train.drop(columns=___), train[\"count\"]\n",
    "X_train, X_test, y_train, y_test = ___"
   ]
  },
  {
   "cell_type": "code",
   "execution_count": null,
   "id": "b555f822",
   "metadata": {},
   "outputs": [],
   "source": [
    "from sklearn.metrics import mean_squared_error, mean_absolute_error\n",
    "from sklearn.preprocessing import StandardScaler, OneHotEncoder, MinMaxScaler\n",
    "from sklearn.compose import ColumnTransformer\n",
    "\n",
    "categorical_features = ['season','holiday','workingday','weather']\n",
    "standardize_features = ['temp', 'atemp', 'humidity', 'windspeed','year','month', 'day', 'dayofweek', 'hour']"
   ]
  },
  {
   "cell_type": "code",
   "execution_count": null,
   "id": "8b39e43c",
   "metadata": {},
   "outputs": [],
   "source": [
    "# ZADANIE: Wykonaj normalizację zmiennych i one-hot encoding\n",
    "colTransformer = ___([('onehot',\n",
    "                                     ___(categories='auto', sparse=False),\n",
    "                                     ___),\n",
    "                                    ('standardize',\n",
    "                                    ___, ___)\n",
    "                                   ],\n",
    "                                   remainder=\"passthrough\")\n",
    "___\n",
    "X_train_encoded = ___\n",
    "X_test_encoded = ___"
   ]
  },
  {
   "cell_type": "code",
   "execution_count": null,
   "id": "a8a152b7",
   "metadata": {},
   "outputs": [],
   "source": [
    "X_test_encoded.shape"
   ]
  },
  {
   "cell_type": "code",
   "execution_count": null,
   "id": "1ac35158",
   "metadata": {},
   "outputs": [],
   "source": [
    "from tensorflow.keras import Sequential\n",
    "from tensorflow.keras.layers import Dense, Dropout\n",
    "\n",
    "# ZADANIE: Zbuduj MLP z 1 warstwą ukrytą i 100 neuronami\n",
    "___\n",
    "# ZADANIE: Skompiluj model\n",
    "___\n",
    "# ZADANIE: Wytrenuj model\n",
    "___"
   ]
  },
  {
   "cell_type": "code",
   "execution_count": null,
   "id": "a3c19867",
   "metadata": {},
   "outputs": [],
   "source": [
    "yhat = model.predict(X_test_encoded)\n",
    "score = mean_absolute_error(y_test, yhat)\n",
    "print('MAE: %.3f' % score)"
   ]
  },
  {
   "cell_type": "code",
   "execution_count": null,
   "id": "9f9ce648",
   "metadata": {},
   "outputs": [],
   "source": [
    "yhat = np.expm1(model.predict(X_test_encoded))\n",
    "score = mean_absolute_error(np.expm1(y_test), yhat)\n",
    "print('MAE: %.3f' % score)"
   ]
  },
  {
   "cell_type": "code",
   "execution_count": null,
   "id": "d36a3875",
   "metadata": {},
   "outputs": [],
   "source": [
    "plt.title('Learning Curves')\n",
    "plt.xlabel('Epoch')\n",
    "plt.ylabel('Mean Squared Error')\n",
    "plt.plot(history.history['loss'][5:], label='train')\n",
    "plt.plot(history.history['val_loss'][5:], label='val')\n",
    "plt.legend()\n",
    "plt.show()"
   ]
  },
  {
   "cell_type": "code",
   "execution_count": null,
   "id": "863f8aa9",
   "metadata": {},
   "outputs": [],
   "source": [
    "all_encoded = colTransformer.transform(train)\n",
    "result = pd.DataFrame({\n",
    "    'real': train['count'].map(np.expm1),\n",
    "    'predicted': np.expm1(model.predict(all_encoded))[:,0]\n",
    "})\n",
    "\n",
    "plt.plot(result['real'], label='Actual')\n",
    "plt.plot(result['predicted'], label='Predicted')\n",
    "plt.xlabel('Sample')\n",
    "plt.ylabel('Count')\n",
    "plt.title('Predicted Vs. Actual')\n",
    "plt.legend()\n",
    "plt.show()"
   ]
  },
  {
   "cell_type": "code",
   "execution_count": null,
   "id": "5169e67f",
   "metadata": {},
   "outputs": [],
   "source": []
  },
  {
   "cell_type": "code",
   "execution_count": null,
   "id": "1cfb5072",
   "metadata": {},
   "outputs": [],
   "source": []
  }
 ],
 "metadata": {
  "kernelspec": {
   "display_name": "Python 3 (ipykernel)",
   "language": "python",
   "name": "python3"
  },
  "language_info": {
   "codemirror_mode": {
    "name": "ipython",
    "version": 3
   },
   "file_extension": ".py",
   "mimetype": "text/x-python",
   "name": "python",
   "nbconvert_exporter": "python",
   "pygments_lexer": "ipython3",
   "version": "3.9.12"
  }
 },
 "nbformat": 4,
 "nbformat_minor": 5
}
