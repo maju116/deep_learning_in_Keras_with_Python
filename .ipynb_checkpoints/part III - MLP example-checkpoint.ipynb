{
 "cells": [
  {
   "cell_type": "markdown",
   "id": "93d6854b",
   "metadata": {},
   "source": [
    "# Auto Insurance Regression\n",
    "\n",
    "Zbiór danych opisuje szwedzkie ubezpieczenia samochodowe. Istnieje pojedyncza wyjaśniająca, która jest liczbą szkód, a zmienną wyjaśnianą jest łączna kwota wypłat za szkody w tysiącach szwedzkich koron. Celem jest przewidywanie łącznej kwoty wypłat na podstawie liczby zgłoszonych szkód."
   ]
  },
  {
   "cell_type": "code",
   "execution_count": null,
   "id": "35d96136",
   "metadata": {},
   "outputs": [],
   "source": [
    "import pandas as pd\n",
    "import matplotlib.pyplot as plt\n",
    "dane = pd.read_csv(\"data/auto-insurance.csv\", header=None, names=['nr_claims', 'payment'])\n",
    "dane"
   ]
  },
  {
   "cell_type": "code",
   "execution_count": null,
   "id": "03d0ebb0",
   "metadata": {},
   "outputs": [],
   "source": [
    "dane.info()"
   ]
  },
  {
   "cell_type": "code",
   "execution_count": null,
   "id": "ff5270b8",
   "metadata": {},
   "outputs": [],
   "source": [
    "dane.describe()"
   ]
  },
  {
   "cell_type": "markdown",
   "id": "54ddf23a",
   "metadata": {},
   "source": [
    "Rozkłady obu zmiennych mają mocno skośny rozkład (niesymetryczny) co może utrudniać zadanie modelowania, rozwiążemy ten problem później"
   ]
  },
  {
   "cell_type": "code",
   "execution_count": null,
   "id": "409d39b6",
   "metadata": {},
   "outputs": [],
   "source": [
    "dane.hist()\n",
    "plt.show()"
   ]
  },
  {
   "cell_type": "code",
   "execution_count": null,
   "id": "aa49e556",
   "metadata": {},
   "outputs": [],
   "source": [
    "dane.plot.scatter(x='nr_claims', y='payment')\n",
    "plt.show()"
   ]
  },
  {
   "cell_type": "code",
   "execution_count": null,
   "id": "8998dbc2",
   "metadata": {},
   "outputs": [],
   "source": [
    "from sklearn.model_selection import train_test_split\n",
    "from sklearn.metrics import mean_absolute_error\n",
    "\n",
    "X, y = dane[\"nr_claims\"].values, dane.payment.values\n",
    "X_train, X_test, y_train, y_test = train_test_split(X, y, test_size=0.33, random_state=222)"
   ]
  },
  {
   "cell_type": "code",
   "execution_count": null,
   "id": "bf6e4207",
   "metadata": {},
   "outputs": [],
   "source": [
    "from sklearn.linear_model import LinearRegression\n",
    "\n",
    "# ZADANIE: Zbuduj model regresji liniowej i sprawdź błąd absolutny dla zbioru testowego\n",
    "lm = ___\n",
    "yhat = ___\n",
    "score = ___\n",
    "print('MAE: %.3f' % score)"
   ]
  },
  {
   "cell_type": "code",
   "execution_count": null,
   "id": "c2863108",
   "metadata": {},
   "outputs": [],
   "source": [
    "from tensorflow.keras import Sequential\n",
    "from tensorflow.keras.layers import Dense\n",
    "\n",
    "# ZADANIE: Stwórz model z jedną warstwą ukrytą z 10 neuronami, aktuwacją 'relu' oraz kernel_initializer='he_normal'\n",
    "___\n",
    "# ZADANIE: Skompiluj model z 'mse' jako funkcją straty i optymalizatorem 'adam'\n",
    "___"
   ]
  },
  {
   "cell_type": "code",
   "execution_count": null,
   "id": "866486f1",
   "metadata": {},
   "outputs": [],
   "source": [
    "# ZADANIE: Wytrenuj model ustawiając 100 epok, batch size 8 i validation_data=(X_test, y_test)\n",
    "___"
   ]
  },
  {
   "cell_type": "code",
   "execution_count": null,
   "id": "9922a939",
   "metadata": {},
   "outputs": [],
   "source": [
    "yhat = model.predict(X_test)\n",
    "score = mean_absolute_error(y_test, yhat)\n",
    "print('MAE: %.3f' % score)"
   ]
  },
  {
   "cell_type": "code",
   "execution_count": null,
   "id": "06ce9d38",
   "metadata": {},
   "outputs": [],
   "source": [
    "plt.title('Learning Curves')\n",
    "plt.xlabel('Epoch')\n",
    "plt.ylabel('Mean Squared Error')\n",
    "plt.plot(history.history['loss'], label='train')\n",
    "plt.plot(history.history['val_loss'], label='val')\n",
    "plt.legend()\n",
    "plt.show()"
   ]
  },
  {
   "cell_type": "markdown",
   "id": "885f89d9",
   "metadata": {},
   "source": [
    "Dokonamy teraz transformacji predyktora i zmiennej odpowiedzi i sprawdzimy czy polepszyło to naszą predykcję."
   ]
  },
  {
   "cell_type": "code",
   "execution_count": null,
   "id": "076e9119",
   "metadata": {},
   "outputs": [],
   "source": [
    "X_train, X_test = y_train.reshape((len(X_train),1)), y_test.reshape((len(X_test),1))\n",
    "y_train, y_test = y_train.reshape((len(y_train),1)), y_test.reshape((len(y_test),1))"
   ]
  },
  {
   "cell_type": "code",
   "execution_count": null,
   "id": "e3368d8b",
   "metadata": {},
   "outputs": [],
   "source": [
    "from sklearn.preprocessing import PowerTransformer\n",
    "pt1 = PowerTransformer()\n",
    "pt1.fit(X_train)\n",
    "X_train = pt1.transform(X_train)\n",
    "X_test = pt1.transform(X_test)\n",
    "pt2 = PowerTransformer()\n",
    "pt2.fit(y_train)\n",
    "y_train = pt2.transform(y_train)\n",
    "y_test = pt2.transform(y_test)"
   ]
  },
  {
   "cell_type": "code",
   "execution_count": null,
   "id": "68cfbf2e",
   "metadata": {},
   "outputs": [],
   "source": [
    "model = Sequential()\n",
    "model.add(Dense(10, activation='relu', kernel_initializer='he_normal', input_shape=(1,)))\n",
    "model.add(Dense(1))\n",
    "model.compile(optimizer='adam', loss='mse')\n",
    "history = model.fit(X_train, y_train, epochs=200, batch_size=8, verbose=1, validation_data=(X_test,y_test))"
   ]
  },
  {
   "cell_type": "code",
   "execution_count": null,
   "id": "864e1ee9",
   "metadata": {},
   "outputs": [],
   "source": [
    "yhat = model.predict(X_test)\n",
    "y_test = pt2.inverse_transform(y_test)\n",
    "yhat = pt2.inverse_transform(yhat)\n",
    "score = mean_absolute_error(y_test, yhat)\n",
    "print('MAE: %.3f' % score)"
   ]
  },
  {
   "cell_type": "code",
   "execution_count": null,
   "id": "36605271",
   "metadata": {},
   "outputs": [],
   "source": [
    "plt.title('Learning Curves')\n",
    "plt.xlabel('Epoch')\n",
    "plt.ylabel('Mean Squared Error')\n",
    "plt.plot(history.history['loss'][25:], label='train')\n",
    "plt.plot(history.history['val_loss'][25:], label='val')\n",
    "plt.legend()\n",
    "plt.show()"
   ]
  },
  {
   "cell_type": "markdown",
   "id": "41a3c4c3",
   "metadata": {},
   "source": [
    "Zauważmy, że dzięki transformacjom udało nam się znacząco zmniejszyć błąd!"
   ]
  },
  {
   "cell_type": "code",
   "execution_count": null,
   "id": "36e2ec2c",
   "metadata": {},
   "outputs": [],
   "source": [
    "from sklearn.model_selection import KFold\n",
    "from numpy import mean\n",
    "from numpy import std\n",
    "\n",
    "kfold = KFold(10)\n",
    "scores = list()\n",
    "for train_ix, test_ix in kfold.split(X, y):\n",
    "    X_train, X_test, y_train, y_test = X[train_ix], X[test_ix], y[train_ix], y[test_ix]\n",
    "    \n",
    "    X_train, X_test = y_train.reshape((len(X_train),1)), y_test.reshape((len(X_test),1))\n",
    "    y_train, y_test = y_train.reshape((len(y_train),1)), y_test.reshape((len(y_test),1))\n",
    "    \n",
    "    pt1 = PowerTransformer()\n",
    "    pt1.fit(X_train)\n",
    "    X_train = pt1.transform(X_train)\n",
    "    X_test = pt1.transform(X_test)\n",
    "    pt2 = PowerTransformer()\n",
    "    pt2.fit(y_train)\n",
    "    y_train = pt2.transform(y_train)\n",
    "    y_test = pt2.transform(y_test)\n",
    "    \n",
    "    model = Sequential()\n",
    "    model.add(Dense(10, activation='relu', kernel_initializer='he_normal', input_shape=(1,)))\n",
    "    model.add(Dense(1))\n",
    "    model.compile(optimizer='adam', loss='mse')\n",
    "    model.fit(X_train, y_train, epochs=100, batch_size=8, verbose=0)\n",
    "    \n",
    "    yhat = model.predict(X_test)\n",
    "    y_test = pt2.inverse_transform(y_test)\n",
    "    yhat = pt2.inverse_transform(yhat)\n",
    "    \n",
    "    score = mean_absolute_error(y_test, yhat)\n",
    "    print('>%.3f' % score)\n",
    "    scores.append(score)\n",
    "print('Mean MAE: %.3f (%.3f)' % (mean(scores), std(scores)))"
   ]
  },
  {
   "cell_type": "code",
   "execution_count": null,
   "id": "546ff85d",
   "metadata": {},
   "outputs": [],
   "source": []
  }
 ],
 "metadata": {
  "kernelspec": {
   "display_name": "Python 3 (ipykernel)",
   "language": "python",
   "name": "python3"
  },
  "language_info": {
   "codemirror_mode": {
    "name": "ipython",
    "version": 3
   },
   "file_extension": ".py",
   "mimetype": "text/x-python",
   "name": "python",
   "nbconvert_exporter": "python",
   "pygments_lexer": "ipython3",
   "version": "3.9.12"
  }
 },
 "nbformat": 4,
 "nbformat_minor": 5
}
